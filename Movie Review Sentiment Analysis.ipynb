{
 "cells": [
  {
   "cell_type": "code",
   "execution_count": null,
   "id": "800fecf2-298b-4d35-bc03-3aad21582af7",
   "metadata": {
    "id": "800fecf2-298b-4d35-bc03-3aad21582af7",
    "outputId": "0a87d5ff-056c-4d52-f43f-cca568c40a53"
   },
   "outputs": [
    {
     "name": "stderr",
     "output_type": "stream",
     "text": [
      "[nltk_data] Downloading package stopwords to\n",
      "[nltk_data]     C:\\Users\\kajal\\AppData\\Roaming\\nltk_data...\n",
      "[nltk_data]   Unzipping corpora\\stopwords.zip.\n"
     ]
    },
    {
     "data": {
      "text/plain": [
       "True"
      ]
     },
     "execution_count": 3,
     "metadata": {},
     "output_type": "execute_result"
    }
   ],
   "source": [
    "import nltk\n",
    "nltk.download('stopwords')"
   ]
  },
  {
   "cell_type": "code",
   "execution_count": null,
   "id": "61a60498-cd45-4cf7-b433-d7d5858d5fee",
   "metadata": {
    "id": "61a60498-cd45-4cf7-b433-d7d5858d5fee",
    "outputId": "1fbded25-8a8e-42ca-b29a-9172e954f13e"
   },
   "outputs": [
    {
     "name": "stderr",
     "output_type": "stream",
     "text": [
      "[nltk_data] Downloading package punkt to\n",
      "[nltk_data]     C:\\Users\\kajal\\AppData\\Roaming\\nltk_data...\n",
      "[nltk_data]   Unzipping tokenizers\\punkt.zip.\n"
     ]
    },
    {
     "data": {
      "text/plain": [
       "True"
      ]
     },
     "execution_count": 5,
     "metadata": {},
     "output_type": "execute_result"
    }
   ],
   "source": [
    "import nltk\n",
    "nltk.download('punkt')"
   ]
  },
  {
   "cell_type": "code",
   "execution_count": null,
   "id": "86496232-e361-4ddf-9fd1-38f7002c422d",
   "metadata": {
    "id": "86496232-e361-4ddf-9fd1-38f7002c422d",
    "outputId": "ef2c7d0d-ea16-4ba9-a0c5-2226450f94ff"
   },
   "outputs": [
    {
     "name": "stdout",
     "output_type": "stream",
     "text": [
      "Dataset shape : (50000, 2)\n",
      "\n",
      "Dataset head : \n",
      "                                              review sentiment\n",
      "0  One of the other reviewers has mentioned that ...  positive\n",
      "1  A wonderful little production. <br /><br />The...  positive\n",
      "2  I thought this was a wonderful way to spend ti...  positive\n",
      "3  Basically there's a family where a little boy ...  negative\n",
      "4  Petter Mattei's \"Love in the Time of Money\" is...  positive\n",
      "\n",
      "Dataset output counts:\n",
      "sentiment\n",
      "positive    25000\n",
      "negative    25000\n",
      "Name: count, dtype: int64\n",
      "\n",
      "Dataset head after encoding :\n",
      "                                              review  sentiment\n",
      "0  One of the other reviewers has mentioned that ...          1\n",
      "1  A wonderful little production. <br /><br />The...          1\n",
      "2  I thought this was a wonderful way to spend ti...          1\n",
      "3  Basically there's a family where a little boy ...          0\n",
      "4  Petter Mattei's \"Love in the Time of Money\" is...          1\n",
      "5  Probably my all-time favorite movie, a story o...          1\n",
      "6  I sure would like to see a resurrection of a u...          1\n",
      "7  This show was an amazing, fresh & innovative i...          0\n",
      "8  Encouraged by the positive comments about this...          0\n",
      "9  If you like original gut wrenching laughter yo...          1\n",
      "\n",
      "Review sample after removing HTML tags : \n",
      "One of the other reviewers has mentioned that after watching just 1 Oz episode you'll be hooked. They are right, as this is exactly what happened with me.The first thing that struck me about Oz was its brutality and unflinching scenes of violence, which set in right from the word GO. Trust me, this is not a show for the faint hearted or timid. This show pulls no punches with regards to drugs, sex or violence. Its is hardcore, in the classic use of the word.It is called OZ as that is the nickname given to the Oswald Maximum Security State Penitentary. It focuses mainly on Emerald City, an experimental section of the prison where all the cells have glass fronts and face inwards, so privacy is not high on the agenda. Em City is home to many..Aryans, Muslims, gangstas, Latinos, Christians, Italians, Irish and more....so scuffles, death stares, dodgy dealings and shady agreements are never far away.I would say the main appeal of the show is due to the fact that it goes where other shows wouldn't dare. Forget pretty pictures painted for mainstream audiences, forget charm, forget romance...OZ doesn't mess around. The first episode I ever saw struck me as so nasty it was surreal, I couldn't say I was ready for it, but as I watched more, I developed a taste for Oz, and got accustomed to the high levels of graphic violence. Not just violence, but injustice (crooked guards who'll be sold out for a nickel, inmates who'll kill on order and get away with it, well mannered, middle class inmates being turned into prison bitches due to their lack of street skills or prison experience) Watching Oz, you may become comfortable with what is uncomfortable viewing....thats if you can get in touch with your darker side.\n",
      "\n",
      "Review sample after removing special characters : \n",
      "One of the other reviewers has mentioned that after watching just 1 Oz episode you ll be hooked  They are right  as this is exactly what happened with me The first thing that struck me about Oz was its brutality and unflinching scenes of violence  which set in right from the word GO  Trust me  this is not a show for the faint hearted or timid  This show pulls no punches with regards to drugs  sex or violence  Its is hardcore  in the classic use of the word It is called OZ as that is the nickname given to the Oswald Maximum Security State Penitentary  It focuses mainly on Emerald City  an experimental section of the prison where all the cells have glass fronts and face inwards  so privacy is not high on the agenda  Em City is home to many  Aryans  Muslims  gangstas  Latinos  Christians  Italians  Irish and more    so scuffles  death stares  dodgy dealings and shady agreements are never far away I would say the main appeal of the show is due to the fact that it goes where other shows wouldn t dare  Forget pretty pictures painted for mainstream audiences  forget charm  forget romance   OZ doesn t mess around  The first episode I ever saw struck me as so nasty it was surreal  I couldn t say I was ready for it  but as I watched more  I developed a taste for Oz  and got accustomed to the high levels of graphic violence  Not just violence  but injustice  crooked guards who ll be sold out for a nickel  inmates who ll kill on order and get away with it  well mannered  middle class inmates being turned into prison bitches due to their lack of street skills or prison experience  Watching Oz  you may become comfortable with what is uncomfortable viewing    thats if you can get in touch with your darker side \n",
      "\n",
      "Review sample after converting everything to lowercase : \n",
      "one of the other reviewers has mentioned that after watching just 1 oz episode you ll be hooked  they are right  as this is exactly what happened with me the first thing that struck me about oz was its brutality and unflinching scenes of violence  which set in right from the word go  trust me  this is not a show for the faint hearted or timid  this show pulls no punches with regards to drugs  sex or violence  its is hardcore  in the classic use of the word it is called oz as that is the nickname given to the oswald maximum security state penitentary  it focuses mainly on emerald city  an experimental section of the prison where all the cells have glass fronts and face inwards  so privacy is not high on the agenda  em city is home to many  aryans  muslims  gangstas  latinos  christians  italians  irish and more    so scuffles  death stares  dodgy dealings and shady agreements are never far away i would say the main appeal of the show is due to the fact that it goes where other shows wouldn t dare  forget pretty pictures painted for mainstream audiences  forget charm  forget romance   oz doesn t mess around  the first episode i ever saw struck me as so nasty it was surreal  i couldn t say i was ready for it  but as i watched more  i developed a taste for oz  and got accustomed to the high levels of graphic violence  not just violence  but injustice  crooked guards who ll be sold out for a nickel  inmates who ll kill on order and get away with it  well mannered  middle class inmates being turned into prison bitches due to their lack of street skills or prison experience  watching oz  you may become comfortable with what is uncomfortable viewing    thats if you can get in touch with your darker side \n",
      "\n",
      "Review sample after removing stopwords : \n",
      "['one', 'reviewers', 'mentioned', 'watching', '1', 'oz', 'episode', 'hooked', 'right', 'exactly', 'happened', 'first', 'thing', 'struck', 'oz', 'brutality', 'unflinching', 'scenes', 'violence', 'set', 'right', 'word', 'go', 'trust', 'show', 'faint', 'hearted', 'timid', 'show', 'pulls', 'punches', 'regards', 'drugs', 'sex', 'violence', 'hardcore', 'classic', 'use', 'word', 'called', 'oz', 'nickname', 'given', 'oswald', 'maximum', 'security', 'state', 'penitentary', 'focuses', 'mainly', 'emerald', 'city', 'experimental', 'section', 'prison', 'cells', 'glass', 'fronts', 'face', 'inwards', 'privacy', 'high', 'agenda', 'em', 'city', 'home', 'many', 'aryans', 'muslims', 'gangstas', 'latinos', 'christians', 'italians', 'irish', 'scuffles', 'death', 'stares', 'dodgy', 'dealings', 'shady', 'agreements', 'never', 'far', 'away', 'would', 'say', 'main', 'appeal', 'show', 'due', 'fact', 'goes', 'shows', 'dare', 'forget', 'pretty', 'pictures', 'painted', 'mainstream', 'audiences', 'forget', 'charm', 'forget', 'romance', 'oz', 'mess', 'around', 'first', 'episode', 'ever', 'saw', 'struck', 'nasty', 'surreal', 'say', 'ready', 'watched', 'developed', 'taste', 'oz', 'got', 'accustomed', 'high', 'levels', 'graphic', 'violence', 'violence', 'injustice', 'crooked', 'guards', 'sold', 'nickel', 'inmates', 'kill', 'order', 'get', 'away', 'well', 'mannered', 'middle', 'class', 'inmates', 'turned', 'prison', 'bitches', 'due', 'lack', 'street', 'skills', 'prison', 'experience', 'watching', 'oz', 'may', 'become', 'comfortable', 'uncomfortable', 'viewing', 'thats', 'get', 'touch', 'darker', 'side']\n",
      "\n",
      "Review sample after stemming the words : \n",
      "one review mention watch 1 oz episod hook right exact happen first thing struck oz brutal unflinch scene violenc set right word go trust show faint heart timid show pull punch regard drug sex violenc hardcor classic use word call oz nicknam given oswald maximum secur state penitentari focus main emerald citi experiment section prison cell glass front face inward privaci high agenda em citi home mani aryan muslim gangsta latino christian italian irish scuffl death stare dodgi deal shadi agreement never far away would say main appeal show due fact goe show dare forget pretti pictur paint mainstream audienc forget charm forget romanc oz mess around first episod ever saw struck nasti surreal say readi watch develop tast oz got accustom high level graphic violenc violenc injustic crook guard sold nickel inmat kill order get away well manner middl class inmat turn prison bitch due lack street skill prison experi watch oz may becom comfort uncomfort view that get touch darker side\n",
      "\n",
      "=== Bag of words ===\n",
      "\n",
      "BOW X shape : (50000, 2000)\n",
      "BOW y shape : (50000,)\n",
      "\n",
      "Train shapes : X = (40000, 2000), y = (40000,)\n",
      "Test shapes  : X = (10000, 2000),  y = (10000,)\n",
      "\n",
      "Gaussian accuracy    =  74.0 %\n",
      "Multinomial accuracy =  84.0 %\n",
      "Bernoulli accuracy   =  85.0 %\n"
     ]
    }
   ],
   "source": [
    "### Movie Reviews Sentiment Analysis | Training ###\n",
    "\"\"\"\n",
    "Description:\n",
    "              Movie reviews sentiment analysis is a project which is based on natural language processing, where we use NLP techniques to extract useful words of each review\n",
    "              and based on these words we can use binary classification to predict the movie sentiment if it's positive or negative\n",
    "\"\"\"\n",
    "\n",
    "## Importing modules ##\n",
    "import numpy as np\n",
    "import pandas as pd\n",
    "import re\n",
    "from nltk.corpus import stopwords\n",
    "from nltk.tokenize import word_tokenize\n",
    "from nltk.stem import SnowballStemmer\n",
    "from sklearn.feature_extraction.text import CountVectorizer\n",
    "from sklearn.model_selection import train_test_split\n",
    "from sklearn.naive_bayes import GaussianNB,MultinomialNB,BernoulliNB\n",
    "from sklearn.metrics import accuracy_score\n",
    "import joblib\n",
    "# nltk.download() # Download \"punkt\" package\n",
    "\n",
    "## 1 | Data Preprocessing ##\n",
    "\"\"\"Prepare the dataset before training\"\"\"\n",
    "\n",
    "# 1.1 Load dataset\n",
    "dataset = pd.read_csv('Dataset/IMDB.csv')\n",
    "print(f\"Dataset shape : {dataset.shape}\\n\")\n",
    "print(f\"Dataset head : \\n{dataset.head()}\\n\")\n",
    "\n",
    "# 1.2 Output counts\n",
    "print(f\"Dataset output counts:\\n{dataset.sentiment.value_counts()}\\n\")\n",
    "\n",
    "# 1.3 Encode output column into binary\n",
    "dataset.sentiment.replace('positive', 1, inplace=True)\n",
    "dataset.sentiment.replace('negative', 0, inplace=True)\n",
    "print(f\"Dataset head after encoding :\\n{dataset.head(10)}\\n\")\n",
    "\n",
    "## 2 | Data cleaning ##\n",
    "\"\"\"Clean dataset reviews as following:\n",
    "1. Remove HTML tags\n",
    "2. Remove special characters\n",
    "3. Convert everything to lowercase\n",
    "4. Remove stopwords\n",
    "5. Stemming\n",
    "\"\"\"\n",
    "\n",
    "# 2.1 Remove HTML tags\n",
    "def clean(text):\n",
    "    cleaned = re.compile(r'<.*?>')\n",
    "    return re.sub(cleaned,'',text)\n",
    "\n",
    "dataset.review = dataset.review.apply(clean)\n",
    "print(f\"Review sample after removing HTML tags : \\n{dataset.review[0]}\\n\")\n",
    "\n",
    "# 2.2 Remove special characters\n",
    "def is_special(text):\n",
    "    rem = ''\n",
    "    for i in text:\n",
    "        if i.isalnum():\n",
    "            rem = rem + i\n",
    "        else:\n",
    "            rem = rem + ' '\n",
    "    return rem\n",
    "\n",
    "dataset.review = dataset.review.apply(is_special)\n",
    "print(f\"Review sample after removing special characters : \\n{dataset.review[0]}\\n\")\n",
    "\n",
    "# 2.3 Convert everything to lowercase\n",
    "def to_lower(text):\n",
    "    return text.lower()\n",
    "\n",
    "dataset.review = dataset.review.apply(to_lower)\n",
    "print(f\"Review sample after converting everything to lowercase : \\n{dataset.review[0]}\\n\")\n",
    "\n",
    "#2.4 Remove stopwords\n",
    "def rem_stopwords(text):\n",
    "    stop_words = set(stopwords.words('english'))\n",
    "    words = word_tokenize(text)\n",
    "    return [w for w in words if w not in stop_words]\n",
    "\n",
    "dataset.review = dataset.review.apply(rem_stopwords)\n",
    "print(f\"Review sample after removing stopwords : \\n{dataset.review[0]}\\n\")\n",
    "\n",
    "# 2.5 Stem the words\n",
    "def stem_txt(text):\n",
    "    ss = SnowballStemmer('english')\n",
    "    return \" \".join([ss.stem(w) for w in text])\n",
    "\n",
    "dataset.review = dataset.review.apply(stem_txt)\n",
    "print(f\"Review sample after stemming the words : \\n{dataset.review[0]}\\n\")\n",
    "\n",
    "## 3 | Model Creation ##\n",
    "\"\"\"Create model to fit it to the data\"\"\"\n",
    "\n",
    "# 3.1 Creating Bag Of Words (BOW)\n",
    "X = np.array(dataset.iloc[:,0].values)\n",
    "y = np.array(dataset.sentiment.values)\n",
    "cv = CountVectorizer(max_features = 2000)\n",
    "X = cv.fit_transform(dataset.review).toarray()\n",
    "print(f\"=== Bag of words ===\\n\")\n",
    "print(f\"BOW X shape : {X.shape}\")\n",
    "print(f\"BOW y shape : {y.shape}\\n\")\n",
    "\n",
    "# 3.2 Train test split\n",
    "X_train, X_test, y_train, y_test = train_test_split(X, y, test_size=0.2, random_state=9)\n",
    "print(f\"Train shapes : X = {X_train.shape}, y = {y_train.shape}\")\n",
    "print(f\"Test shapes  : X = {X_test.shape},  y = {y_test.shape}\\n\")\n",
    "\n",
    "# 3.3 Defining the models and Training them\n",
    "gnb, mnb, bnb = GaussianNB(), MultinomialNB(alpha=1.0,fit_prior=True), BernoulliNB(alpha=1.0,fit_prior=True)\n",
    "gnb.fit(X_train, y_train)\n",
    "mnb.fit(X_train, y_train)\n",
    "bnb.fit(X_train, y_train)\n",
    "\n",
    "# 3.4 Save the three models\n",
    "joblib.dump(gnb, \"Models/MRSA_gnb.pkl\")\n",
    "joblib.dump(mnb, \"Models/MRSA_mnb.pkl\")\n",
    "joblib.dump(bnb, \"Models/MRSA_bnb.pkl\")\n",
    "\n",
    "# 3.5 Make predictions\n",
    "ypg = gnb.predict(X_test)\n",
    "ypm = mnb.predict(X_test)\n",
    "ypb = bnb.predict(X_test)\n",
    "\n",
    "## 4 | Model Evaluation ##\n",
    "\"\"\"Evaluate model performance\"\"\"\n",
    "print(f\"Gaussian accuracy    =  {round(accuracy_score(y_test, ypg), 2)*100} %\")\n",
    "print(f\"Multinomial accuracy =  {round(accuracy_score(y_test, ypm), 2)*100} %\")\n",
    "print(f\"Bernoulli accuracy   =  {round(accuracy_score(y_test, ypb), 2)*100} %\")"
   ]
  },
  {
   "cell_type": "code",
   "execution_count": null,
   "id": "0fe0818f-7c69-4b41-8a45-e62e981d0fa9",
   "metadata": {
    "id": "0fe0818f-7c69-4b41-8a45-e62e981d0fa9"
   },
   "outputs": [],
   "source": []
  }
 ],
 "metadata": {
  "colab": {
   "provenance": []
  },
  "kernelspec": {
   "display_name": "Python 3 (ipykernel)",
   "language": "python",
   "name": "python3"
  },
  "language_info": {
   "codemirror_mode": {
    "name": "ipython",
    "version": 3
   },
   "file_extension": ".py",
   "mimetype": "text/x-python",
   "name": "python",
   "nbconvert_exporter": "python",
   "pygments_lexer": "ipython3",
   "version": "3.9.13"
  }
 },
 "nbformat": 4,
 "nbformat_minor": 5
}
